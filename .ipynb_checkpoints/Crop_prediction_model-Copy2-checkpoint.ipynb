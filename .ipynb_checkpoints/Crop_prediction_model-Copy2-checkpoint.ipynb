{
 "cells": [
  {
   "cell_type": "markdown",
   "metadata": {
    "id": "ElHiPzneAlDl"
   },
   "source": [
    "<b><h2> CROP YIELD PREDICTION IN INDIA </h2></b>\n",
    "\n",
    "Predicting yield helps the state to get an estimate of the crop in a\n",
    "certain year to control the price rates.This model focuses on predicting the crop yield in advance by analyzing\n",
    "factors like location, season, and crop type  through machine learning techniques on\n",
    "previously collected datasets."
   ]
  },
  {
   "cell_type": "code",
   "execution_count": 1,
   "metadata": {
    "id": "FtEIe2eNAvGG"
   },
   "outputs": [],
   "source": [
    "import numpy as np\n",
    "import pandas as pd\n",
    "import matplotlib.pyplot as plt\n",
    "import seaborn as sns\n",
    "%matplotlib inline\n",
    "\n",
    "from sklearn.model_selection import train_test_split\n",
    "from sklearn.linear_model import LinearRegression\n",
    "from sklearn.metrics import mean_squared_error, r2_score, mean_absolute_error"
   ]
  },
  {
   "cell_type": "markdown",
   "metadata": {},
   "source": [
    "# Data Loading and Exploration:"
   ]
  },
  {
   "cell_type": "code",
   "execution_count": 2,
   "metadata": {
    "colab": {
     "base_uri": "https://localhost:8080/",
     "height": 468
    },
    "id": "QlFU5GzNCLGo",
    "outputId": "27ac79ca-1d7b-4bf4-8040-973bf80a16d7"
   },
   "outputs": [
    {
     "data": {
      "text/html": [
       "<div>\n",
       "<style scoped>\n",
       "    .dataframe tbody tr th:only-of-type {\n",
       "        vertical-align: middle;\n",
       "    }\n",
       "\n",
       "    .dataframe tbody tr th {\n",
       "        vertical-align: top;\n",
       "    }\n",
       "\n",
       "    .dataframe thead th {\n",
       "        text-align: right;\n",
       "    }\n",
       "</style>\n",
       "<table border=\"1\" class=\"dataframe\">\n",
       "  <thead>\n",
       "    <tr style=\"text-align: right;\">\n",
       "      <th></th>\n",
       "      <th>State_Name</th>\n",
       "      <th>District_Name</th>\n",
       "      <th>Crop_Year</th>\n",
       "      <th>Season</th>\n",
       "      <th>Crop</th>\n",
       "      <th>Temperature</th>\n",
       "      <th>Humidity</th>\n",
       "      <th>Soil_Moisture</th>\n",
       "      <th>Area</th>\n",
       "      <th>Production</th>\n",
       "    </tr>\n",
       "  </thead>\n",
       "  <tbody>\n",
       "    <tr>\n",
       "      <th>0</th>\n",
       "      <td>Andaman and Nicobar Islands</td>\n",
       "      <td>NICOBARS</td>\n",
       "      <td>2000</td>\n",
       "      <td>Kharif</td>\n",
       "      <td>Arecanut</td>\n",
       "      <td>36</td>\n",
       "      <td>35</td>\n",
       "      <td>45</td>\n",
       "      <td>1254.0</td>\n",
       "      <td>2000.0</td>\n",
       "    </tr>\n",
       "    <tr>\n",
       "      <th>1</th>\n",
       "      <td>Andaman and Nicobar Islands</td>\n",
       "      <td>NICOBARS</td>\n",
       "      <td>2000</td>\n",
       "      <td>Kharif</td>\n",
       "      <td>Other Kharif pulses</td>\n",
       "      <td>37</td>\n",
       "      <td>40</td>\n",
       "      <td>46</td>\n",
       "      <td>2.0</td>\n",
       "      <td>1.0</td>\n",
       "    </tr>\n",
       "    <tr>\n",
       "      <th>2</th>\n",
       "      <td>Andaman and Nicobar Islands</td>\n",
       "      <td>NICOBARS</td>\n",
       "      <td>2000</td>\n",
       "      <td>Kharif</td>\n",
       "      <td>Rice</td>\n",
       "      <td>36</td>\n",
       "      <td>41</td>\n",
       "      <td>50</td>\n",
       "      <td>102.0</td>\n",
       "      <td>321.0</td>\n",
       "    </tr>\n",
       "    <tr>\n",
       "      <th>3</th>\n",
       "      <td>Andaman and Nicobar Islands</td>\n",
       "      <td>NICOBARS</td>\n",
       "      <td>2000</td>\n",
       "      <td>Whole Year</td>\n",
       "      <td>Banana</td>\n",
       "      <td>37</td>\n",
       "      <td>42</td>\n",
       "      <td>55</td>\n",
       "      <td>176.0</td>\n",
       "      <td>641.0</td>\n",
       "    </tr>\n",
       "    <tr>\n",
       "      <th>4</th>\n",
       "      <td>Andaman and Nicobar Islands</td>\n",
       "      <td>NICOBARS</td>\n",
       "      <td>2000</td>\n",
       "      <td>Whole Year</td>\n",
       "      <td>Cashewnut</td>\n",
       "      <td>36</td>\n",
       "      <td>40</td>\n",
       "      <td>54</td>\n",
       "      <td>720.0</td>\n",
       "      <td>165.0</td>\n",
       "    </tr>\n",
       "  </tbody>\n",
       "</table>\n",
       "</div>"
      ],
      "text/plain": [
       "                    State_Name District_Name  Crop_Year       Season  \\\n",
       "0  Andaman and Nicobar Islands      NICOBARS       2000  Kharif        \n",
       "1  Andaman and Nicobar Islands      NICOBARS       2000  Kharif        \n",
       "2  Andaman and Nicobar Islands      NICOBARS       2000  Kharif        \n",
       "3  Andaman and Nicobar Islands      NICOBARS       2000  Whole Year    \n",
       "4  Andaman and Nicobar Islands      NICOBARS       2000  Whole Year    \n",
       "\n",
       "                  Crop  Temperature  Humidity  Soil_Moisture    Area  \\\n",
       "0             Arecanut           36        35             45  1254.0   \n",
       "1  Other Kharif pulses           37        40             46     2.0   \n",
       "2                 Rice           36        41             50   102.0   \n",
       "3               Banana           37        42             55   176.0   \n",
       "4            Cashewnut           36        40             54   720.0   \n",
       "\n",
       "   Production  \n",
       "0      2000.0  \n",
       "1         1.0  \n",
       "2       321.0  \n",
       "3       641.0  \n",
       "4       165.0  "
      ]
     },
     "execution_count": 2,
     "metadata": {},
     "output_type": "execute_result"
    }
   ],
   "source": [
    "crop_data = pd.read_csv(\"E:/KRMU/Subject/Aiml/crop prediction project/Crop Prediction dataset.csv\")\n",
    "crop_data.head()\n"
   ]
  },
  {
   "cell_type": "code",
   "execution_count": 3,
   "metadata": {
    "colab": {
     "base_uri": "https://localhost:8080/"
    },
    "id": "TCCZqMyfI3qj",
    "outputId": "6810719e-fd74-4062-a494-554e69830f77"
   },
   "outputs": [
    {
     "name": "stdout",
     "output_type": "stream",
     "text": [
      "(49999, 10)\n"
     ]
    }
   ],
   "source": [
    "print(crop_data.shape)"
   ]
  },
  {
   "cell_type": "code",
   "execution_count": 4,
   "metadata": {
    "colab": {
     "base_uri": "https://localhost:8080/"
    },
    "id": "vJM7qEq3wEEb",
    "outputId": "04008a07-ce9d-4128-ba1b-635c5610671f"
   },
   "outputs": [
    {
     "data": {
      "text/plain": [
       "Index(['State_Name', 'District_Name', 'Crop_Year', 'Season', 'Crop',\n",
       "       'Temperature', 'Humidity', 'Soil_Moisture', 'Area', 'Production'],\n",
       "      dtype='object')"
      ]
     },
     "execution_count": 4,
     "metadata": {},
     "output_type": "execute_result"
    }
   ],
   "source": [
    "crop_data.columns"
   ]
  },
  {
   "cell_type": "code",
   "execution_count": 5,
   "metadata": {
    "colab": {
     "base_uri": "https://localhost:8080/",
     "height": 300
    },
    "id": "1xDyXRn_S-8I",
    "outputId": "440c94f1-3b4d-4889-fb60-058375ce1c78"
   },
   "outputs": [
    {
     "data": {
      "text/html": [
       "<div>\n",
       "<style scoped>\n",
       "    .dataframe tbody tr th:only-of-type {\n",
       "        vertical-align: middle;\n",
       "    }\n",
       "\n",
       "    .dataframe tbody tr th {\n",
       "        vertical-align: top;\n",
       "    }\n",
       "\n",
       "    .dataframe thead th {\n",
       "        text-align: right;\n",
       "    }\n",
       "</style>\n",
       "<table border=\"1\" class=\"dataframe\">\n",
       "  <thead>\n",
       "    <tr style=\"text-align: right;\">\n",
       "      <th></th>\n",
       "      <th>Crop_Year</th>\n",
       "      <th>Temperature</th>\n",
       "      <th>Humidity</th>\n",
       "      <th>Soil_Moisture</th>\n",
       "      <th>Area</th>\n",
       "      <th>Production</th>\n",
       "    </tr>\n",
       "  </thead>\n",
       "  <tbody>\n",
       "    <tr>\n",
       "      <th>count</th>\n",
       "      <td>49999.000000</td>\n",
       "      <td>49999.000000</td>\n",
       "      <td>49999.000000</td>\n",
       "      <td>49999.000000</td>\n",
       "      <td>49999.000000</td>\n",
       "      <td>4.978400e+04</td>\n",
       "    </tr>\n",
       "    <tr>\n",
       "      <th>mean</th>\n",
       "      <td>2005.879138</td>\n",
       "      <td>34.445489</td>\n",
       "      <td>44.776116</td>\n",
       "      <td>53.110502</td>\n",
       "      <td>7363.389469</td>\n",
       "      <td>4.132019e+05</td>\n",
       "    </tr>\n",
       "    <tr>\n",
       "      <th>std</th>\n",
       "      <td>5.106092</td>\n",
       "      <td>3.498524</td>\n",
       "      <td>6.662406</td>\n",
       "      <td>5.258764</td>\n",
       "      <td>27927.935789</td>\n",
       "      <td>1.232609e+07</td>\n",
       "    </tr>\n",
       "    <tr>\n",
       "      <th>min</th>\n",
       "      <td>1997.000000</td>\n",
       "      <td>25.000000</td>\n",
       "      <td>35.000000</td>\n",
       "      <td>45.000000</td>\n",
       "      <td>0.200000</td>\n",
       "      <td>0.000000e+00</td>\n",
       "    </tr>\n",
       "    <tr>\n",
       "      <th>25%</th>\n",
       "      <td>2002.000000</td>\n",
       "      <td>34.000000</td>\n",
       "      <td>40.000000</td>\n",
       "      <td>50.000000</td>\n",
       "      <td>76.000000</td>\n",
       "      <td>8.700000e+01</td>\n",
       "    </tr>\n",
       "    <tr>\n",
       "      <th>50%</th>\n",
       "      <td>2006.000000</td>\n",
       "      <td>36.000000</td>\n",
       "      <td>42.000000</td>\n",
       "      <td>54.000000</td>\n",
       "      <td>436.000000</td>\n",
       "      <td>6.384400e+02</td>\n",
       "    </tr>\n",
       "    <tr>\n",
       "      <th>75%</th>\n",
       "      <td>2010.000000</td>\n",
       "      <td>36.000000</td>\n",
       "      <td>50.000000</td>\n",
       "      <td>55.000000</td>\n",
       "      <td>2546.500000</td>\n",
       "      <td>5.615000e+03</td>\n",
       "    </tr>\n",
       "    <tr>\n",
       "      <th>max</th>\n",
       "      <td>2014.000000</td>\n",
       "      <td>37.000000</td>\n",
       "      <td>55.000000</td>\n",
       "      <td>62.000000</td>\n",
       "      <td>877029.000000</td>\n",
       "      <td>7.801620e+08</td>\n",
       "    </tr>\n",
       "  </tbody>\n",
       "</table>\n",
       "</div>"
      ],
      "text/plain": [
       "          Crop_Year   Temperature      Humidity  Soil_Moisture           Area  \\\n",
       "count  49999.000000  49999.000000  49999.000000   49999.000000   49999.000000   \n",
       "mean    2005.879138     34.445489     44.776116      53.110502    7363.389469   \n",
       "std        5.106092      3.498524      6.662406       5.258764   27927.935789   \n",
       "min     1997.000000     25.000000     35.000000      45.000000       0.200000   \n",
       "25%     2002.000000     34.000000     40.000000      50.000000      76.000000   \n",
       "50%     2006.000000     36.000000     42.000000      54.000000     436.000000   \n",
       "75%     2010.000000     36.000000     50.000000      55.000000    2546.500000   \n",
       "max     2014.000000     37.000000     55.000000      62.000000  877029.000000   \n",
       "\n",
       "         Production  \n",
       "count  4.978400e+04  \n",
       "mean   4.132019e+05  \n",
       "std    1.232609e+07  \n",
       "min    0.000000e+00  \n",
       "25%    8.700000e+01  \n",
       "50%    6.384400e+02  \n",
       "75%    5.615000e+03  \n",
       "max    7.801620e+08  "
      ]
     },
     "execution_count": 5,
     "metadata": {},
     "output_type": "execute_result"
    }
   ],
   "source": [
    "crop_data.describe()"
   ]
  },
  {
   "cell_type": "code",
   "execution_count": 6,
   "metadata": {
    "colab": {
     "base_uri": "https://localhost:8080/"
    },
    "id": "etWFlfIWWdbC",
    "outputId": "714faee3-ceeb-42ae-da72-d9638660fc2e"
   },
   "outputs": [
    {
     "data": {
      "text/plain": [
       "State_Name         0\n",
       "District_Name      0\n",
       "Crop_Year          0\n",
       "Season             0\n",
       "Crop               0\n",
       "Temperature        0\n",
       "Humidity           0\n",
       "Soil_Moisture      0\n",
       "Area               0\n",
       "Production       215\n",
       "dtype: int64"
      ]
     },
     "execution_count": 6,
     "metadata": {},
     "output_type": "execute_result"
    }
   ],
   "source": [
    "# Checking missing values of the dataset in each column\n",
    "crop_data.isnull().sum()"
   ]
  },
  {
   "cell_type": "markdown",
   "metadata": {},
   "source": [
    "# Data Preprocessing:"
   ]
  },
  {
   "cell_type": "code",
   "execution_count": 7,
   "metadata": {
    "colab": {
     "base_uri": "https://localhost:8080/",
     "height": 468
    },
    "id": "dJXZbZ3kWl2y",
    "outputId": "487e0273-8f27-4306-e3ae-363dcf1ff3f8"
   },
   "outputs": [
    {
     "data": {
      "text/html": [
       "<div>\n",
       "<style scoped>\n",
       "    .dataframe tbody tr th:only-of-type {\n",
       "        vertical-align: middle;\n",
       "    }\n",
       "\n",
       "    .dataframe tbody tr th {\n",
       "        vertical-align: top;\n",
       "    }\n",
       "\n",
       "    .dataframe thead th {\n",
       "        text-align: right;\n",
       "    }\n",
       "</style>\n",
       "<table border=\"1\" class=\"dataframe\">\n",
       "  <thead>\n",
       "    <tr style=\"text-align: right;\">\n",
       "      <th></th>\n",
       "      <th>State_Name</th>\n",
       "      <th>District_Name</th>\n",
       "      <th>Crop_Year</th>\n",
       "      <th>Season</th>\n",
       "      <th>Crop</th>\n",
       "      <th>Temperature</th>\n",
       "      <th>Humidity</th>\n",
       "      <th>Soil_Moisture</th>\n",
       "      <th>Area</th>\n",
       "      <th>Production</th>\n",
       "    </tr>\n",
       "  </thead>\n",
       "  <tbody>\n",
       "    <tr>\n",
       "      <th>0</th>\n",
       "      <td>Andaman and Nicobar Islands</td>\n",
       "      <td>NICOBARS</td>\n",
       "      <td>2000</td>\n",
       "      <td>Kharif</td>\n",
       "      <td>Arecanut</td>\n",
       "      <td>36</td>\n",
       "      <td>35</td>\n",
       "      <td>45</td>\n",
       "      <td>1254.0</td>\n",
       "      <td>2000.0</td>\n",
       "    </tr>\n",
       "    <tr>\n",
       "      <th>1</th>\n",
       "      <td>Andaman and Nicobar Islands</td>\n",
       "      <td>NICOBARS</td>\n",
       "      <td>2000</td>\n",
       "      <td>Kharif</td>\n",
       "      <td>Other Kharif pulses</td>\n",
       "      <td>37</td>\n",
       "      <td>40</td>\n",
       "      <td>46</td>\n",
       "      <td>2.0</td>\n",
       "      <td>1.0</td>\n",
       "    </tr>\n",
       "    <tr>\n",
       "      <th>2</th>\n",
       "      <td>Andaman and Nicobar Islands</td>\n",
       "      <td>NICOBARS</td>\n",
       "      <td>2000</td>\n",
       "      <td>Kharif</td>\n",
       "      <td>Rice</td>\n",
       "      <td>36</td>\n",
       "      <td>41</td>\n",
       "      <td>50</td>\n",
       "      <td>102.0</td>\n",
       "      <td>321.0</td>\n",
       "    </tr>\n",
       "    <tr>\n",
       "      <th>3</th>\n",
       "      <td>Andaman and Nicobar Islands</td>\n",
       "      <td>NICOBARS</td>\n",
       "      <td>2000</td>\n",
       "      <td>Whole Year</td>\n",
       "      <td>Banana</td>\n",
       "      <td>37</td>\n",
       "      <td>42</td>\n",
       "      <td>55</td>\n",
       "      <td>176.0</td>\n",
       "      <td>641.0</td>\n",
       "    </tr>\n",
       "    <tr>\n",
       "      <th>4</th>\n",
       "      <td>Andaman and Nicobar Islands</td>\n",
       "      <td>NICOBARS</td>\n",
       "      <td>2000</td>\n",
       "      <td>Whole Year</td>\n",
       "      <td>Cashewnut</td>\n",
       "      <td>36</td>\n",
       "      <td>40</td>\n",
       "      <td>54</td>\n",
       "      <td>720.0</td>\n",
       "      <td>165.0</td>\n",
       "    </tr>\n",
       "    <tr>\n",
       "      <th>...</th>\n",
       "      <td>...</td>\n",
       "      <td>...</td>\n",
       "      <td>...</td>\n",
       "      <td>...</td>\n",
       "      <td>...</td>\n",
       "      <td>...</td>\n",
       "      <td>...</td>\n",
       "      <td>...</td>\n",
       "      <td>...</td>\n",
       "      <td>...</td>\n",
       "    </tr>\n",
       "    <tr>\n",
       "      <th>49994</th>\n",
       "      <td>Chhattisgarh</td>\n",
       "      <td>JANJGIR-CHAMPA</td>\n",
       "      <td>2006</td>\n",
       "      <td>Kharif</td>\n",
       "      <td>Small millets</td>\n",
       "      <td>36</td>\n",
       "      <td>35</td>\n",
       "      <td>45</td>\n",
       "      <td>27.0</td>\n",
       "      <td>7.0</td>\n",
       "    </tr>\n",
       "    <tr>\n",
       "      <th>49995</th>\n",
       "      <td>Chhattisgarh</td>\n",
       "      <td>JANJGIR-CHAMPA</td>\n",
       "      <td>2006</td>\n",
       "      <td>Kharif</td>\n",
       "      <td>Soyabean</td>\n",
       "      <td>37</td>\n",
       "      <td>40</td>\n",
       "      <td>46</td>\n",
       "      <td>27.0</td>\n",
       "      <td>32.0</td>\n",
       "    </tr>\n",
       "    <tr>\n",
       "      <th>49996</th>\n",
       "      <td>Chhattisgarh</td>\n",
       "      <td>JANJGIR-CHAMPA</td>\n",
       "      <td>2006</td>\n",
       "      <td>Kharif</td>\n",
       "      <td>Sunflower</td>\n",
       "      <td>36</td>\n",
       "      <td>41</td>\n",
       "      <td>50</td>\n",
       "      <td>450.0</td>\n",
       "      <td>213.0</td>\n",
       "    </tr>\n",
       "    <tr>\n",
       "      <th>49997</th>\n",
       "      <td>Chhattisgarh</td>\n",
       "      <td>JANJGIR-CHAMPA</td>\n",
       "      <td>2006</td>\n",
       "      <td>Kharif</td>\n",
       "      <td>Urad</td>\n",
       "      <td>37</td>\n",
       "      <td>42</td>\n",
       "      <td>55</td>\n",
       "      <td>1778.0</td>\n",
       "      <td>309.0</td>\n",
       "    </tr>\n",
       "    <tr>\n",
       "      <th>49998</th>\n",
       "      <td>Chhattisgarh</td>\n",
       "      <td>JANJGIR-CHAMPA</td>\n",
       "      <td>2006</td>\n",
       "      <td>Rabi</td>\n",
       "      <td>Gram</td>\n",
       "      <td>36</td>\n",
       "      <td>40</td>\n",
       "      <td>54</td>\n",
       "      <td>216.0</td>\n",
       "      <td>194.0</td>\n",
       "    </tr>\n",
       "  </tbody>\n",
       "</table>\n",
       "<p>49999 rows × 10 columns</p>\n",
       "</div>"
      ],
      "text/plain": [
       "                        State_Name   District_Name  Crop_Year       Season  \\\n",
       "0      Andaman and Nicobar Islands        NICOBARS       2000  Kharif        \n",
       "1      Andaman and Nicobar Islands        NICOBARS       2000  Kharif        \n",
       "2      Andaman and Nicobar Islands        NICOBARS       2000  Kharif        \n",
       "3      Andaman and Nicobar Islands        NICOBARS       2000  Whole Year    \n",
       "4      Andaman and Nicobar Islands        NICOBARS       2000  Whole Year    \n",
       "...                            ...             ...        ...          ...   \n",
       "49994                 Chhattisgarh  JANJGIR-CHAMPA       2006  Kharif        \n",
       "49995                 Chhattisgarh  JANJGIR-CHAMPA       2006  Kharif        \n",
       "49996                 Chhattisgarh  JANJGIR-CHAMPA       2006  Kharif        \n",
       "49997                 Chhattisgarh  JANJGIR-CHAMPA       2006  Kharif        \n",
       "49998                 Chhattisgarh  JANJGIR-CHAMPA       2006  Rabi          \n",
       "\n",
       "                      Crop  Temperature  Humidity  Soil_Moisture    Area  \\\n",
       "0                 Arecanut           36        35             45  1254.0   \n",
       "1      Other Kharif pulses           37        40             46     2.0   \n",
       "2                     Rice           36        41             50   102.0   \n",
       "3                   Banana           37        42             55   176.0   \n",
       "4                Cashewnut           36        40             54   720.0   \n",
       "...                    ...          ...       ...            ...     ...   \n",
       "49994        Small millets           36        35             45    27.0   \n",
       "49995             Soyabean           37        40             46    27.0   \n",
       "49996            Sunflower           36        41             50   450.0   \n",
       "49997                 Urad           37        42             55  1778.0   \n",
       "49998                 Gram           36        40             54   216.0   \n",
       "\n",
       "       Production  \n",
       "0          2000.0  \n",
       "1             1.0  \n",
       "2           321.0  \n",
       "3           641.0  \n",
       "4           165.0  \n",
       "...           ...  \n",
       "49994         7.0  \n",
       "49995        32.0  \n",
       "49996       213.0  \n",
       "49997       309.0  \n",
       "49998       194.0  \n",
       "\n",
       "[49999 rows x 10 columns]"
      ]
     },
     "execution_count": 7,
     "metadata": {},
     "output_type": "execute_result"
    }
   ],
   "source": [
    "# Replacing missing values with mean of the production coloumn\n",
    "crop_data['Production'] = crop_data['Production'].fillna(crop_data['Production'].mean())\n",
    "crop_data"
   ]
  },
  {
   "cell_type": "code",
   "execution_count": 8,
   "metadata": {},
   "outputs": [
    {
     "data": {
      "text/plain": [
       "State_Name        object\n",
       "District_Name     object\n",
       "Crop_Year          int64\n",
       "Season            object\n",
       "Crop              object\n",
       "Temperature        int64\n",
       "Humidity           int64\n",
       "Soil_Moisture      int64\n",
       "Area             float64\n",
       "Production       float64\n",
       "dtype: object"
      ]
     },
     "execution_count": 8,
     "metadata": {},
     "output_type": "execute_result"
    }
   ],
   "source": [
    "crop_data.dtypes"
   ]
  },
  {
   "cell_type": "code",
   "execution_count": 9,
   "metadata": {
    "colab": {
     "base_uri": "https://localhost:8080/",
     "height": 580
    },
    "id": "N6W9rKGRQMbJ",
    "outputId": "b5e8e7f5-efa6-493e-853d-8d3a77512574"
   },
   "outputs": [
    {
     "data": {
      "text/html": [
       "<div>\n",
       "<style scoped>\n",
       "    .dataframe tbody tr th:only-of-type {\n",
       "        vertical-align: middle;\n",
       "    }\n",
       "\n",
       "    .dataframe tbody tr th {\n",
       "        vertical-align: top;\n",
       "    }\n",
       "\n",
       "    .dataframe thead th {\n",
       "        text-align: right;\n",
       "    }\n",
       "</style>\n",
       "<table border=\"1\" class=\"dataframe\">\n",
       "  <thead>\n",
       "    <tr style=\"text-align: right;\">\n",
       "      <th></th>\n",
       "      <th>State_Name</th>\n",
       "      <th>District_Name</th>\n",
       "      <th>Crop_Year</th>\n",
       "      <th>Season</th>\n",
       "      <th>Crop</th>\n",
       "      <th>Temperature</th>\n",
       "      <th>Humidity</th>\n",
       "      <th>Soil_Moisture</th>\n",
       "      <th>Area</th>\n",
       "      <th>Production</th>\n",
       "      <th>Yield</th>\n",
       "    </tr>\n",
       "  </thead>\n",
       "  <tbody>\n",
       "    <tr>\n",
       "      <th>0</th>\n",
       "      <td>Andaman and Nicobar Islands</td>\n",
       "      <td>NICOBARS</td>\n",
       "      <td>2000</td>\n",
       "      <td>Kharif</td>\n",
       "      <td>Arecanut</td>\n",
       "      <td>36</td>\n",
       "      <td>35</td>\n",
       "      <td>45</td>\n",
       "      <td>1254.0</td>\n",
       "      <td>2000.0</td>\n",
       "      <td>1.594896</td>\n",
       "    </tr>\n",
       "    <tr>\n",
       "      <th>1</th>\n",
       "      <td>Andaman and Nicobar Islands</td>\n",
       "      <td>NICOBARS</td>\n",
       "      <td>2000</td>\n",
       "      <td>Kharif</td>\n",
       "      <td>Other Kharif pulses</td>\n",
       "      <td>37</td>\n",
       "      <td>40</td>\n",
       "      <td>46</td>\n",
       "      <td>2.0</td>\n",
       "      <td>1.0</td>\n",
       "      <td>0.500000</td>\n",
       "    </tr>\n",
       "    <tr>\n",
       "      <th>2</th>\n",
       "      <td>Andaman and Nicobar Islands</td>\n",
       "      <td>NICOBARS</td>\n",
       "      <td>2000</td>\n",
       "      <td>Kharif</td>\n",
       "      <td>Rice</td>\n",
       "      <td>36</td>\n",
       "      <td>41</td>\n",
       "      <td>50</td>\n",
       "      <td>102.0</td>\n",
       "      <td>321.0</td>\n",
       "      <td>3.147059</td>\n",
       "    </tr>\n",
       "    <tr>\n",
       "      <th>3</th>\n",
       "      <td>Andaman and Nicobar Islands</td>\n",
       "      <td>NICOBARS</td>\n",
       "      <td>2000</td>\n",
       "      <td>Whole Year</td>\n",
       "      <td>Banana</td>\n",
       "      <td>37</td>\n",
       "      <td>42</td>\n",
       "      <td>55</td>\n",
       "      <td>176.0</td>\n",
       "      <td>641.0</td>\n",
       "      <td>3.642045</td>\n",
       "    </tr>\n",
       "    <tr>\n",
       "      <th>4</th>\n",
       "      <td>Andaman and Nicobar Islands</td>\n",
       "      <td>NICOBARS</td>\n",
       "      <td>2000</td>\n",
       "      <td>Whole Year</td>\n",
       "      <td>Cashewnut</td>\n",
       "      <td>36</td>\n",
       "      <td>40</td>\n",
       "      <td>54</td>\n",
       "      <td>720.0</td>\n",
       "      <td>165.0</td>\n",
       "      <td>0.229167</td>\n",
       "    </tr>\n",
       "    <tr>\n",
       "      <th>5</th>\n",
       "      <td>Andaman and Nicobar Islands</td>\n",
       "      <td>NICOBARS</td>\n",
       "      <td>2000</td>\n",
       "      <td>Whole Year</td>\n",
       "      <td>Coconut</td>\n",
       "      <td>34</td>\n",
       "      <td>45</td>\n",
       "      <td>52</td>\n",
       "      <td>18168.0</td>\n",
       "      <td>65100000.0</td>\n",
       "      <td>3583.223250</td>\n",
       "    </tr>\n",
       "    <tr>\n",
       "      <th>6</th>\n",
       "      <td>Andaman and Nicobar Islands</td>\n",
       "      <td>NICOBARS</td>\n",
       "      <td>2000</td>\n",
       "      <td>Whole Year</td>\n",
       "      <td>Dry ginger</td>\n",
       "      <td>34</td>\n",
       "      <td>55</td>\n",
       "      <td>62</td>\n",
       "      <td>36.0</td>\n",
       "      <td>100.0</td>\n",
       "      <td>2.777778</td>\n",
       "    </tr>\n",
       "    <tr>\n",
       "      <th>7</th>\n",
       "      <td>Andaman and Nicobar Islands</td>\n",
       "      <td>NICOBARS</td>\n",
       "      <td>2000</td>\n",
       "      <td>Whole Year</td>\n",
       "      <td>Sugarcane</td>\n",
       "      <td>35</td>\n",
       "      <td>50</td>\n",
       "      <td>59</td>\n",
       "      <td>1.0</td>\n",
       "      <td>2.0</td>\n",
       "      <td>2.000000</td>\n",
       "    </tr>\n",
       "    <tr>\n",
       "      <th>8</th>\n",
       "      <td>Andaman and Nicobar Islands</td>\n",
       "      <td>NICOBARS</td>\n",
       "      <td>2000</td>\n",
       "      <td>Whole Year</td>\n",
       "      <td>Sweet potato</td>\n",
       "      <td>25</td>\n",
       "      <td>55</td>\n",
       "      <td>55</td>\n",
       "      <td>5.0</td>\n",
       "      <td>15.0</td>\n",
       "      <td>3.000000</td>\n",
       "    </tr>\n",
       "    <tr>\n",
       "      <th>9</th>\n",
       "      <td>Andaman and Nicobar Islands</td>\n",
       "      <td>NICOBARS</td>\n",
       "      <td>2000</td>\n",
       "      <td>Whole Year</td>\n",
       "      <td>Tapioca</td>\n",
       "      <td>36</td>\n",
       "      <td>35</td>\n",
       "      <td>45</td>\n",
       "      <td>40.0</td>\n",
       "      <td>169.0</td>\n",
       "      <td>4.225000</td>\n",
       "    </tr>\n",
       "  </tbody>\n",
       "</table>\n",
       "</div>"
      ],
      "text/plain": [
       "                    State_Name District_Name  Crop_Year       Season  \\\n",
       "0  Andaman and Nicobar Islands      NICOBARS       2000  Kharif        \n",
       "1  Andaman and Nicobar Islands      NICOBARS       2000  Kharif        \n",
       "2  Andaman and Nicobar Islands      NICOBARS       2000  Kharif        \n",
       "3  Andaman and Nicobar Islands      NICOBARS       2000  Whole Year    \n",
       "4  Andaman and Nicobar Islands      NICOBARS       2000  Whole Year    \n",
       "5  Andaman and Nicobar Islands      NICOBARS       2000  Whole Year    \n",
       "6  Andaman and Nicobar Islands      NICOBARS       2000  Whole Year    \n",
       "7  Andaman and Nicobar Islands      NICOBARS       2000  Whole Year    \n",
       "8  Andaman and Nicobar Islands      NICOBARS       2000  Whole Year    \n",
       "9  Andaman and Nicobar Islands      NICOBARS       2000  Whole Year    \n",
       "\n",
       "                  Crop  Temperature  Humidity  Soil_Moisture     Area  \\\n",
       "0             Arecanut           36        35             45   1254.0   \n",
       "1  Other Kharif pulses           37        40             46      2.0   \n",
       "2                 Rice           36        41             50    102.0   \n",
       "3               Banana           37        42             55    176.0   \n",
       "4            Cashewnut           36        40             54    720.0   \n",
       "5             Coconut            34        45             52  18168.0   \n",
       "6           Dry ginger           34        55             62     36.0   \n",
       "7            Sugarcane           35        50             59      1.0   \n",
       "8         Sweet potato           25        55             55      5.0   \n",
       "9              Tapioca           36        35             45     40.0   \n",
       "\n",
       "   Production        Yield  \n",
       "0      2000.0     1.594896  \n",
       "1         1.0     0.500000  \n",
       "2       321.0     3.147059  \n",
       "3       641.0     3.642045  \n",
       "4       165.0     0.229167  \n",
       "5  65100000.0  3583.223250  \n",
       "6       100.0     2.777778  \n",
       "7         2.0     2.000000  \n",
       "8        15.0     3.000000  \n",
       "9       169.0     4.225000  "
      ]
     },
     "execution_count": 9,
     "metadata": {},
     "output_type": "execute_result"
    }
   ],
   "source": [
    "# Adding a new column Yield which indicates Production per unit Area.\n",
    "\n",
    "crop_data['Yield'] = (crop_data['Production'] / crop_data['Area'])\n",
    "crop_data.head(10)"
   ]
  },
  {
   "cell_type": "code",
   "execution_count": 10,
   "metadata": {
    "id": "yiGXMLevMBpN"
   },
   "outputs": [],
   "source": [
    "# # Dropping unnecessary columns\n",
    "# data = crop_data.drop(['State_Name','District_Name','Season','Crop'], axis = 1)\n",
    "# data"
   ]
  },
  {
   "cell_type": "markdown",
   "metadata": {},
   "source": [
    "# Data Visualization:"
   ]
  },
  {
   "cell_type": "code",
   "execution_count": 11,
   "metadata": {},
   "outputs": [
    {
     "data": {
      "image/png": "[encoded data removed]",
      "text/plain": [
       "<Figure size 1000x800 with 2 Axes>"
      ]
     },
     "metadata": {},
     "output_type": "display_data"
    }
   ],
   "source": [
    "import seaborn as sns\n",
    "import numpy as np\n",
    "import matplotlib.pyplot as plt\n",
    "\n",
    "# Visualize Correlation Matrix\n",
    "datacorr = crop_data.copy()\n",
    "from sklearn.preprocessing import LabelEncoder\n",
    "\n",
    "categorical_columns = datacorr.select_dtypes(include=['object']).columns.tolist()\n",
    "label_encoder = LabelEncoder()\n",
    "for column in categorical_columns:\n",
    "    datacorr[column] = label_encoder.fit_transform(datacorr[column])\n",
    "\n",
    "# Set the size of the plot\n",
    "plt.figure(figsize=(10, 8))\n",
    "\n",
    "# Create heatmap\n",
    "sns.heatmap(datacorr.corr(), annot=True, cmap='PuOr')\n",
    "\n",
    "# Show the plot\n",
    "plt.show()\n"
   ]
  },
  {
   "cell_type": "markdown",
   "metadata": {},
   "source": [
    "# Query 1. What is the average temperature for crop cultivation in a specific state?"
   ]
  },
  {
   "cell_type": "code",
   "execution_count": 12,
   "metadata": {},
   "outputs": [
    {
     "name": "stdout",
     "output_type": "stream",
     "text": [
      "The overall average temperature for crop cultivation is: 34.45 degrees Celsius.\n"
     ]
    }
   ],
   "source": [
    "import pandas as pd\n",
    "# Calculate the overall average temperature for crop cultivation\n",
    "average_temperature = crop_data['Temperature'].mean()\n",
    "\n",
    "print(f\"The overall average temperature for crop cultivation is: {average_temperature:.2f} degrees Celsius.\")\n"
   ]
  },
  {
   "cell_type": "markdown",
   "metadata": {},
   "source": [
    "# Query 2. How does humidity affect crop production?"
   ]
  },
  {
   "cell_type": "code",
   "execution_count": 13,
   "metadata": {},
   "outputs": [
    {
     "data": {
      "image/png": "[encoded data removed]",
      "text/plain": [
       "<Figure size 640x480 with 1 Axes>"
      ]
     },
     "metadata": {},
     "output_type": "display_data"
    }
   ],
   "source": [
    "import pandas as pd\n",
    "import matplotlib.pyplot as plt\n",
    "\n",
    "# Assuming 'crop_data' is your dataset\n",
    "# Assuming 'District_Name', 'Humidity', and 'Production' are the relevant columns\n",
    "# Adjust column names based on your dataset structure\n",
    "\n",
    "# Select relevant columns\n",
    "selected_columns = ['District_Name', 'Humidity', 'Production']\n",
    "data_subset = crop_data[selected_columns]\n",
    "\n",
    "# Group data by district and calculate the average humidity and production\n",
    "grouped_data = data_subset.groupby('District_Name').mean().reset_index()\n",
    "\n",
    "# Plotting\n",
    "plt.scatter(grouped_data['Humidity'], grouped_data['Production'], color='green', alpha=0.7)\n",
    "plt.xlabel('Humidity')\n",
    "plt.ylabel('Crop Production')\n",
    "plt.title('Humidity vs. Crop Production in Different Districts')\n",
    "plt.show()\n"
   ]
  },
  {
   "cell_type": "markdown",
   "metadata": {},
   "source": [
    "# Query 3. Which crops have the highest yield per unit area?"
   ]
  },
  {
   "cell_type": "code",
   "execution_count": 14,
   "metadata": {},
   "outputs": [
    {
     "name": "stderr",
     "output_type": "stream",
     "text": [
      "C:\\Users\\yash9\\AppData\\Local\\Temp\\ipykernel_34488\\2510674191.py:11: FutureWarning: \n",
      "\n",
      "Passing `palette` without assigning `hue` is deprecated and will be removed in v0.14.0. Assign the `y` variable to `hue` and set `legend=False` for the same effect.\n",
      "\n",
      "  sns.barplot(x=mean_yield_per_area.values, y=mean_yield_per_area.index, palette='viridis')\n"
     ]
    },
    {
     "data": {
      "image/png": "[encoded data removed]",
      "text/plain": [
       "<Figure size 1200x600 with 1 Axes>"
      ]
     },
     "metadata": {},
     "output_type": "display_data"
    }
   ],
   "source": [
    "# Calculate yield per unit area (Yield/Area)\n",
    "crop_data['Yield_Per_Area'] = crop_data['Production'] / crop_data['Area']\n",
    "\n",
    "# Group by Crop and calculate the mean yield per unit area for each crop\n",
    "mean_yield_per_area = crop_data.groupby('Crop')['Yield_Per_Area'].mean().sort_values(ascending=False).head(10)\n",
    "\n",
    "# Set the size of the plot\n",
    "plt.figure(figsize=(12, 6))\n",
    "\n",
    "# Create a bar chart\n",
    "sns.barplot(x=mean_yield_per_area.values, y=mean_yield_per_area.index, palette='viridis')\n",
    "\n",
    "# Set labels and title\n",
    "plt.xlabel('Mean Yield per Unit Area')\n",
    "plt.ylabel('Crop')\n",
    "plt.title('Top Crops with Highest Yield per Unit Area')\n",
    "\n",
    "# Show the plot\n",
    "plt.show()"
   ]
  },
  {
   "cell_type": "markdown",
   "metadata": {},
   "source": [
    "# Query 4. Is there a relationship between soil moisture and crop production?"
   ]
  },
  {
   "cell_type": "code",
   "execution_count": 15,
   "metadata": {},
   "outputs": [
    {
     "data": {
      "image/png": "[encoded data removed]",
      "text/plain": [
       "<Figure size 640x480 with 1 Axes>"
      ]
     },
     "metadata": {},
     "output_type": "display_data"
    }
   ],
   "source": [
    "import matplotlib.pyplot as plt\n",
    "import seaborn as sns\n",
    "\n",
    "# Scatter plot showing the relationship between soil moisture and crop production\n",
    "sns.scatterplot(x='Soil_Moisture', y='Production', data=crop_data, alpha=0.5, color='blue')\n",
    "\n",
    "plt.title('Relationship Between Soil Moisture and Crop Production')\n",
    "plt.xlabel('Soil Moisture')\n",
    "plt.ylabel('Crop Production')\n",
    "\n",
    "plt.show()\n"
   ]
  },
  {
   "cell_type": "markdown",
   "metadata": {},
   "source": [
    "# Query 5. What is the relationship between soil moisture and humidity in crop cultivation?\r\n"
   ]
  },
  {
   "cell_type": "code",
   "execution_count": 16,
   "metadata": {},
   "outputs": [
    {
     "data": {
      "image/png": "[encoded data removed]",
      "text/plain": [
       "<Figure size 1000x600 with 1 Axes>"
      ]
     },
     "metadata": {},
     "output_type": "display_data"
    }
   ],
   "source": [
    "import seaborn as sns\n",
    "import matplotlib.pyplot as plt\n",
    "\n",
    "# Assuming crop_data is your dataset\n",
    "sns.set(style=\"whitegrid\")\n",
    "plt.figure(figsize=(10, 6))\n",
    "\n",
    "# Scatter plot with regression line\n",
    "sns.regplot(x='Soil_Moisture', y='Humidity', data=crop_data, scatter_kws={'s': 20}, line_kws={'color': 'red'})\n",
    "\n",
    "# Customize plot\n",
    "plt.title('Relationship Between Soil Moisture and Humidity in Crop Cultivation')\n",
    "plt.xlabel('Soil Moisture')\n",
    "plt.ylabel('Humidity')\n",
    "\n",
    "plt.show()\n"
   ]
  },
  {
   "cell_type": "markdown",
   "metadata": {},
   "source": [
    "# Data Splitting"
   ]
  },
  {
   "cell_type": "code",
   "execution_count": 17,
   "metadata": {},
   "outputs": [
    {
     "data": {
      "text/html": [
       "<div>\n",
       "<style scoped>\n",
       "    .dataframe tbody tr th:only-of-type {\n",
       "        vertical-align: middle;\n",
       "    }\n",
       "\n",
       "    .dataframe tbody tr th {\n",
       "        vertical-align: top;\n",
       "    }\n",
       "\n",
       "    .dataframe thead th {\n",
       "        text-align: right;\n",
       "    }\n",
       "</style>\n",
       "<table border=\"1\" class=\"dataframe\">\n",
       "  <thead>\n",
       "    <tr style=\"text-align: right;\">\n",
       "      <th></th>\n",
       "      <th>Crop_Year</th>\n",
       "      <th>Temperature</th>\n",
       "      <th>Humidity</th>\n",
       "      <th>Soil_Moisture</th>\n",
       "      <th>Area</th>\n",
       "      <th>Production</th>\n",
       "      <th>Yield</th>\n",
       "      <th>Yield_Per_Area</th>\n",
       "      <th>State_Name_Andaman and Nicobar Islands</th>\n",
       "      <th>State_Name_Andhra Pradesh</th>\n",
       "      <th>...</th>\n",
       "      <th>Crop_Tapioca</th>\n",
       "      <th>Crop_Tobacco</th>\n",
       "      <th>Crop_Tomato</th>\n",
       "      <th>Crop_Turmeric</th>\n",
       "      <th>Crop_Urad</th>\n",
       "      <th>Crop_Varagu</th>\n",
       "      <th>Crop_Wheat</th>\n",
       "      <th>Crop_other fibres</th>\n",
       "      <th>Crop_other misc. pulses</th>\n",
       "      <th>Crop_other oilseeds</th>\n",
       "    </tr>\n",
       "  </thead>\n",
       "  <tbody>\n",
       "    <tr>\n",
       "      <th>0</th>\n",
       "      <td>2000</td>\n",
       "      <td>36</td>\n",
       "      <td>35</td>\n",
       "      <td>45</td>\n",
       "      <td>1254.0</td>\n",
       "      <td>2000.0</td>\n",
       "      <td>1.594896</td>\n",
       "      <td>1.594896</td>\n",
       "      <td>True</td>\n",
       "      <td>False</td>\n",
       "      <td>...</td>\n",
       "      <td>False</td>\n",
       "      <td>False</td>\n",
       "      <td>False</td>\n",
       "      <td>False</td>\n",
       "      <td>False</td>\n",
       "      <td>False</td>\n",
       "      <td>False</td>\n",
       "      <td>False</td>\n",
       "      <td>False</td>\n",
       "      <td>False</td>\n",
       "    </tr>\n",
       "    <tr>\n",
       "      <th>1</th>\n",
       "      <td>2000</td>\n",
       "      <td>37</td>\n",
       "      <td>40</td>\n",
       "      <td>46</td>\n",
       "      <td>2.0</td>\n",
       "      <td>1.0</td>\n",
       "      <td>0.500000</td>\n",
       "      <td>0.500000</td>\n",
       "      <td>True</td>\n",
       "      <td>False</td>\n",
       "      <td>...</td>\n",
       "      <td>False</td>\n",
       "      <td>False</td>\n",
       "      <td>False</td>\n",
       "      <td>False</td>\n",
       "      <td>False</td>\n",
       "      <td>False</td>\n",
       "      <td>False</td>\n",
       "      <td>False</td>\n",
       "      <td>False</td>\n",
       "      <td>False</td>\n",
       "    </tr>\n",
       "    <tr>\n",
       "      <th>2</th>\n",
       "      <td>2000</td>\n",
       "      <td>36</td>\n",
       "      <td>41</td>\n",
       "      <td>50</td>\n",
       "      <td>102.0</td>\n",
       "      <td>321.0</td>\n",
       "      <td>3.147059</td>\n",
       "      <td>3.147059</td>\n",
       "      <td>True</td>\n",
       "      <td>False</td>\n",
       "      <td>...</td>\n",
       "      <td>False</td>\n",
       "      <td>False</td>\n",
       "      <td>False</td>\n",
       "      <td>False</td>\n",
       "      <td>False</td>\n",
       "      <td>False</td>\n",
       "      <td>False</td>\n",
       "      <td>False</td>\n",
       "      <td>False</td>\n",
       "      <td>False</td>\n",
       "    </tr>\n",
       "    <tr>\n",
       "      <th>3</th>\n",
       "      <td>2000</td>\n",
       "      <td>37</td>\n",
       "      <td>42</td>\n",
       "      <td>55</td>\n",
       "      <td>176.0</td>\n",
       "      <td>641.0</td>\n",
       "      <td>3.642045</td>\n",
       "      <td>3.642045</td>\n",
       "      <td>True</td>\n",
       "      <td>False</td>\n",
       "      <td>...</td>\n",
       "      <td>False</td>\n",
       "      <td>False</td>\n",
       "      <td>False</td>\n",
       "      <td>False</td>\n",
       "      <td>False</td>\n",
       "      <td>False</td>\n",
       "      <td>False</td>\n",
       "      <td>False</td>\n",
       "      <td>False</td>\n",
       "      <td>False</td>\n",
       "    </tr>\n",
       "    <tr>\n",
       "      <th>4</th>\n",
       "      <td>2000</td>\n",
       "      <td>36</td>\n",
       "      <td>40</td>\n",
       "      <td>54</td>\n",
       "      <td>720.0</td>\n",
       "      <td>165.0</td>\n",
       "      <td>0.229167</td>\n",
       "      <td>0.229167</td>\n",
       "      <td>True</td>\n",
       "      <td>False</td>\n",
       "      <td>...</td>\n",
       "      <td>False</td>\n",
       "      <td>False</td>\n",
       "      <td>False</td>\n",
       "      <td>False</td>\n",
       "      <td>False</td>\n",
       "      <td>False</td>\n",
       "      <td>False</td>\n",
       "      <td>False</td>\n",
       "      <td>False</td>\n",
       "      <td>False</td>\n",
       "    </tr>\n",
       "    <tr>\n",
       "      <th>...</th>\n",
       "      <td>...</td>\n",
       "      <td>...</td>\n",
       "      <td>...</td>\n",
       "      <td>...</td>\n",
       "      <td>...</td>\n",
       "      <td>...</td>\n",
       "      <td>...</td>\n",
       "      <td>...</td>\n",
       "      <td>...</td>\n",
       "      <td>...</td>\n",
       "      <td>...</td>\n",
       "      <td>...</td>\n",
       "      <td>...</td>\n",
       "      <td>...</td>\n",
       "      <td>...</td>\n",
       "      <td>...</td>\n",
       "      <td>...</td>\n",
       "      <td>...</td>\n",
       "      <td>...</td>\n",
       "      <td>...</td>\n",
       "      <td>...</td>\n",
       "    </tr>\n",
       "    <tr>\n",
       "      <th>49994</th>\n",
       "      <td>2006</td>\n",
       "      <td>36</td>\n",
       "      <td>35</td>\n",
       "      <td>45</td>\n",
       "      <td>27.0</td>\n",
       "      <td>7.0</td>\n",
       "      <td>0.259259</td>\n",
       "      <td>0.259259</td>\n",
       "      <td>False</td>\n",
       "      <td>False</td>\n",
       "      <td>...</td>\n",
       "      <td>False</td>\n",
       "      <td>False</td>\n",
       "      <td>False</td>\n",
       "      <td>False</td>\n",
       "      <td>False</td>\n",
       "      <td>False</td>\n",
       "      <td>False</td>\n",
       "      <td>False</td>\n",
       "      <td>False</td>\n",
       "      <td>False</td>\n",
       "    </tr>\n",
       "    <tr>\n",
       "      <th>49995</th>\n",
       "      <td>2006</td>\n",
       "      <td>37</td>\n",
       "      <td>40</td>\n",
       "      <td>46</td>\n",
       "      <td>27.0</td>\n",
       "      <td>32.0</td>\n",
       "      <td>1.185185</td>\n",
       "      <td>1.185185</td>\n",
       "      <td>False</td>\n",
       "      <td>False</td>\n",
       "      <td>...</td>\n",
       "      <td>False</td>\n",
       "      <td>False</td>\n",
       "      <td>False</td>\n",
       "      <td>False</td>\n",
       "      <td>False</td>\n",
       "      <td>False</td>\n",
       "      <td>False</td>\n",
       "      <td>False</td>\n",
       "      <td>False</td>\n",
       "      <td>False</td>\n",
       "    </tr>\n",
       "    <tr>\n",
       "      <th>49996</th>\n",
       "      <td>2006</td>\n",
       "      <td>36</td>\n",
       "      <td>41</td>\n",
       "      <td>50</td>\n",
       "      <td>450.0</td>\n",
       "      <td>213.0</td>\n",
       "      <td>0.473333</td>\n",
       "      <td>0.473333</td>\n",
       "      <td>False</td>\n",
       "      <td>False</td>\n",
       "      <td>...</td>\n",
       "      <td>False</td>\n",
       "      <td>False</td>\n",
       "      <td>False</td>\n",
       "      <td>False</td>\n",
       "      <td>False</td>\n",
       "      <td>False</td>\n",
       "      <td>False</td>\n",
       "      <td>False</td>\n",
       "      <td>False</td>\n",
       "      <td>False</td>\n",
       "    </tr>\n",
       "    <tr>\n",
       "      <th>49997</th>\n",
       "      <td>2006</td>\n",
       "      <td>37</td>\n",
       "      <td>42</td>\n",
       "      <td>55</td>\n",
       "      <td>1778.0</td>\n",
       "      <td>309.0</td>\n",
       "      <td>0.173791</td>\n",
       "      <td>0.173791</td>\n",
       "      <td>False</td>\n",
       "      <td>False</td>\n",
       "      <td>...</td>\n",
       "      <td>False</td>\n",
       "      <td>False</td>\n",
       "      <td>False</td>\n",
       "      <td>False</td>\n",
       "      <td>True</td>\n",
       "      <td>False</td>\n",
       "      <td>False</td>\n",
       "      <td>False</td>\n",
       "      <td>False</td>\n",
       "      <td>False</td>\n",
       "    </tr>\n",
       "    <tr>\n",
       "      <th>49998</th>\n",
       "      <td>2006</td>\n",
       "      <td>36</td>\n",
       "      <td>40</td>\n",
       "      <td>54</td>\n",
       "      <td>216.0</td>\n",
       "      <td>194.0</td>\n",
       "      <td>0.898148</td>\n",
       "      <td>0.898148</td>\n",
       "      <td>False</td>\n",
       "      <td>False</td>\n",
       "      <td>...</td>\n",
       "      <td>False</td>\n",
       "      <td>False</td>\n",
       "      <td>False</td>\n",
       "      <td>False</td>\n",
       "      <td>False</td>\n",
       "      <td>False</td>\n",
       "      <td>False</td>\n",
       "      <td>False</td>\n",
       "      <td>False</td>\n",
       "      <td>False</td>\n",
       "    </tr>\n",
       "  </tbody>\n",
       "</table>\n",
       "<p>49999 rows × 213 columns</p>\n",
       "</div>"
      ],
      "text/plain": [
       "       Crop_Year  Temperature  Humidity  Soil_Moisture    Area  Production  \\\n",
       "0           2000           36        35             45  1254.0      2000.0   \n",
       "1           2000           37        40             46     2.0         1.0   \n",
       "2           2000           36        41             50   102.0       321.0   \n",
       "3           2000           37        42             55   176.0       641.0   \n",
       "4           2000           36        40             54   720.0       165.0   \n",
       "...          ...          ...       ...            ...     ...         ...   \n",
       "49994       2006           36        35             45    27.0         7.0   \n",
       "49995       2006           37        40             46    27.0        32.0   \n",
       "49996       2006           36        41             50   450.0       213.0   \n",
       "49997       2006           37        42             55  1778.0       309.0   \n",
       "49998       2006           36        40             54   216.0       194.0   \n",
       "\n",
       "          Yield  Yield_Per_Area  State_Name_Andaman and Nicobar Islands  \\\n",
       "0      1.594896        1.594896                                    True   \n",
       "1      0.500000        0.500000                                    True   \n",
       "2      3.147059        3.147059                                    True   \n",
       "3      3.642045        3.642045                                    True   \n",
       "4      0.229167        0.229167                                    True   \n",
       "...         ...             ...                                     ...   \n",
       "49994  0.259259        0.259259                                   False   \n",
       "49995  1.185185        1.185185                                   False   \n",
       "49996  0.473333        0.473333                                   False   \n",
       "49997  0.173791        0.173791                                   False   \n",
       "49998  0.898148        0.898148                                   False   \n",
       "\n",
       "       State_Name_Andhra Pradesh  ...  Crop_Tapioca  Crop_Tobacco  \\\n",
       "0                          False  ...         False         False   \n",
       "1                          False  ...         False         False   \n",
       "2                          False  ...         False         False   \n",
       "3                          False  ...         False         False   \n",
       "4                          False  ...         False         False   \n",
       "...                          ...  ...           ...           ...   \n",
       "49994                      False  ...         False         False   \n",
       "49995                      False  ...         False         False   \n",
       "49996                      False  ...         False         False   \n",
       "49997                      False  ...         False         False   \n",
       "49998                      False  ...         False         False   \n",
       "\n",
       "       Crop_Tomato  Crop_Turmeric  Crop_Urad  Crop_Varagu  Crop_Wheat  \\\n",
       "0            False          False      False        False       False   \n",
       "1            False          False      False        False       False   \n",
       "2            False          False      False        False       False   \n",
       "3            False          False      False        False       False   \n",
       "4            False          False      False        False       False   \n",
       "...            ...            ...        ...          ...         ...   \n",
       "49994        False          False      False        False       False   \n",
       "49995        False          False      False        False       False   \n",
       "49996        False          False      False        False       False   \n",
       "49997        False          False       True        False       False   \n",
       "49998        False          False      False        False       False   \n",
       "\n",
       "       Crop_other fibres  Crop_other misc. pulses  Crop_other oilseeds  \n",
       "0                  False                    False                False  \n",
       "1                  False                    False                False  \n",
       "2                  False                    False                False  \n",
       "3                  False                    False                False  \n",
       "4                  False                    False                False  \n",
       "...                  ...                      ...                  ...  \n",
       "49994              False                    False                False  \n",
       "49995              False                    False                False  \n",
       "49996              False                    False                False  \n",
       "49997              False                    False                False  \n",
       "49998              False                    False                False  \n",
       "\n",
       "[49999 rows x 213 columns]"
      ]
     },
     "execution_count": 17,
     "metadata": {},
     "output_type": "execute_result"
    }
   ],
   "source": [
    "dummy = pd.get_dummies(crop_data)\n",
    "dummy"
   ]
  },
  {
   "cell_type": "code",
   "execution_count": 18,
   "metadata": {
    "colab": {
     "base_uri": "https://localhost:8080/"
    },
    "id": "N2D3e349PCmJ",
    "outputId": "a058de61-380a-4781-8079-9df86eba7fd8"
   },
   "outputs": [
    {
     "name": "stdout",
     "output_type": "stream",
     "text": [
      "x_train : (37499, 211)\n",
      "x_test : (12500, 211)\n",
      "y_train : (37499,)\n",
      "y_test : (12500,)\n"
     ]
    }
   ],
   "source": [
    "\n",
    "from sklearn.model_selection import train_test_split\n",
    "\n",
    "x = dummy.drop([\"Production\",\"Yield\"], axis=1)\n",
    "y = dummy[\"Production\"]\n",
    "\n",
    "# Splitting data set - 25% test dataset and 75%\n",
    "\n",
    "x_train,x_test,y_train,y_test = train_test_split(x,y,test_size=0.25, random_state=42)\n",
    "\n",
    "print(\"x_train :\",x_train.shape)\n",
    "print(\"x_test :\",x_test.shape)\n",
    "print(\"y_train :\",y_train.shape)\n",
    "print(\"y_test :\",y_test.shape)"
   ]
  },
  {
   "cell_type": "code",
   "execution_count": 19,
   "metadata": {
    "colab": {
     "base_uri": "https://localhost:8080/"
    },
    "id": "UZYbfg5iN1rz",
    "outputId": "b10cccad-fa77-4319-e99d-f4ad20d801e2"
   },
   "outputs": [
    {
     "name": "stdout",
     "output_type": "stream",
     "text": [
      "       Crop_Year  Temperature  Humidity  Soil_Moisture     Area  \\\n",
      "27434       2009           36        40             54   2761.0   \n",
      "13400       1999           36        35             45  57620.0   \n",
      "883         2013           37        40             46    935.0   \n",
      "7303        2004           36        40             54   9065.0   \n",
      "49251       2005           36        35             45   7505.0   \n",
      "...          ...          ...       ...            ...      ...   \n",
      "11284       2002           35        50             59    130.0   \n",
      "44732       2013           25        55             55     29.0   \n",
      "38158       2010           37        42             55   2347.0   \n",
      "860         2013           34        45             52      2.0   \n",
      "15795       2009           37        40             46    767.0   \n",
      "\n",
      "       Yield_Per_Area  State_Name_Andaman and Nicobar Islands  \\\n",
      "27434        4.527707                                   False   \n",
      "13400        1.090142                                   False   \n",
      "883          0.915508                                   False   \n",
      "7303        76.133039                                   False   \n",
      "49251        0.170953                                   False   \n",
      "...               ...                                     ...   \n",
      "11284       14.538462                                   False   \n",
      "44732        0.862069                                   False   \n",
      "38158        3.893481                                   False   \n",
      "860         19.000000                                   False   \n",
      "15795        0.565841                                   False   \n",
      "\n",
      "       State_Name_Andhra Pradesh  State_Name_Arunachal Pradesh  \\\n",
      "27434                      False                         False   \n",
      "13400                      False                         False   \n",
      "883                         True                         False   \n",
      "7303                        True                         False   \n",
      "49251                      False                         False   \n",
      "...                          ...                           ...   \n",
      "11284                      False                          True   \n",
      "44732                      False                         False   \n",
      "38158                      False                         False   \n",
      "860                         True                         False   \n",
      "15795                      False                         False   \n",
      "\n",
      "       State_Name_Assam  ...  Crop_Tapioca  Crop_Tobacco  Crop_Tomato  \\\n",
      "27434             False  ...         False         False        False   \n",
      "13400              True  ...         False         False        False   \n",
      "883               False  ...         False         False        False   \n",
      "7303              False  ...         False         False        False   \n",
      "49251             False  ...         False         False        False   \n",
      "...                 ...  ...           ...           ...          ...   \n",
      "11284             False  ...         False         False        False   \n",
      "44732             False  ...         False         False        False   \n",
      "38158             False  ...         False         False        False   \n",
      "860               False  ...         False         False        False   \n",
      "15795              True  ...         False         False        False   \n",
      "\n",
      "       Crop_Turmeric  Crop_Urad  Crop_Varagu  Crop_Wheat  Crop_other fibres  \\\n",
      "27434          False      False        False       False              False   \n",
      "13400          False      False        False       False              False   \n",
      "883            False      False        False       False              False   \n",
      "7303           False      False        False       False              False   \n",
      "49251          False      False        False       False              False   \n",
      "...              ...        ...          ...         ...                ...   \n",
      "11284          False      False        False       False              False   \n",
      "44732          False      False        False       False              False   \n",
      "38158          False      False        False       False              False   \n",
      "860            False      False        False       False              False   \n",
      "15795          False       True        False       False              False   \n",
      "\n",
      "       Crop_other misc. pulses  Crop_other oilseeds  \n",
      "27434                    False                False  \n",
      "13400                    False                False  \n",
      "883                      False                False  \n",
      "7303                     False                False  \n",
      "49251                    False                False  \n",
      "...                        ...                  ...  \n",
      "11284                    False                False  \n",
      "44732                    False                False  \n",
      "38158                    False                False  \n",
      "860                      False                False  \n",
      "15795                    False                False  \n",
      "\n",
      "[37499 rows x 211 columns]\n",
      "27434     12501.0\n",
      "13400     62814.0\n",
      "883         856.0\n",
      "7303     690146.0\n",
      "49251      1283.0\n",
      "           ...   \n",
      "11284      1890.0\n",
      "44732        25.0\n",
      "38158      9138.0\n",
      "860          38.0\n",
      "15795       434.0\n",
      "Name: Production, Length: 37499, dtype: float64\n"
     ]
    }
   ],
   "source": [
    "print(x_train)\n",
    "print(y_train)"
   ]
  },
  {
   "cell_type": "markdown",
   "metadata": {},
   "source": [
    "# Linear Regression:"
   ]
  },
  {
   "cell_type": "code",
   "execution_count": 20,
   "metadata": {
    "id": "QcmEJiH6hhBd"
   },
   "outputs": [
    {
     "data": {
      "text/html": [
       "<style>#sk-container-id-1 {color: black;}#sk-container-id-1 pre{padding: 0;}#sk-container-id-1 div.sk-toggleable {background-color: white;}#sk-container-id-1 label.sk-toggleable__label {cursor: pointer;display: block;width: 100%;margin-bottom: 0;padding: 0.3em;box-sizing: border-box;text-align: center;}#sk-container-id-1 label.sk-toggleable__label-arrow:before {content: \"▸\";float: left;margin-right: 0.25em;color: #696969;}#sk-container-id-1 label.sk-toggleable__label-arrow:hover:before {color: black;}#sk-container-id-1 div.sk-estimator:hover label.sk-toggleable__label-arrow:before {color: black;}#sk-container-id-1 div.sk-toggleable__content {max-height: 0;max-width: 0;overflow: hidden;text-align: left;background-color: #f0f8ff;}#sk-container-id-1 div.sk-toggleable__content pre {margin: 0.2em;color: black;border-radius: 0.25em;background-color: #f0f8ff;}#sk-container-id-1 input.sk-toggleable__control:checked~div.sk-toggleable__content {max-height: 200px;max-width: 100%;overflow: auto;}#sk-container-id-1 input.sk-toggleable__control:checked~label.sk-toggleable__label-arrow:before {content: \"▾\";}#sk-container-id-1 div.sk-estimator input.sk-toggleable__control:checked~label.sk-toggleable__label {background-color: #d4ebff;}#sk-container-id-1 div.sk-label input.sk-toggleable__control:checked~label.sk-toggleable__label {background-color: #d4ebff;}#sk-container-id-1 input.sk-hidden--visually {border: 0;clip: rect(1px 1px 1px 1px);clip: rect(1px, 1px, 1px, 1px);height: 1px;margin: -1px;overflow: hidden;padding: 0;position: absolute;width: 1px;}#sk-container-id-1 div.sk-estimator {font-family: monospace;background-color: #f0f8ff;border: 1px dotted black;border-radius: 0.25em;box-sizing: border-box;margin-bottom: 0.5em;}#sk-container-id-1 div.sk-estimator:hover {background-color: #d4ebff;}#sk-container-id-1 div.sk-parallel-item::after {content: \"\";width: 100%;border-bottom: 1px solid gray;flex-grow: 1;}#sk-container-id-1 div.sk-label:hover label.sk-toggleable__label {background-color: #d4ebff;}#sk-container-id-1 div.sk-serial::before {content: \"\";position: absolute;border-left: 1px solid gray;box-sizing: border-box;top: 0;bottom: 0;left: 50%;z-index: 0;}#sk-container-id-1 div.sk-serial {display: flex;flex-direction: column;align-items: center;background-color: white;padding-right: 0.2em;padding-left: 0.2em;position: relative;}#sk-container-id-1 div.sk-item {position: relative;z-index: 1;}#sk-container-id-1 div.sk-parallel {display: flex;align-items: stretch;justify-content: center;background-color: white;position: relative;}#sk-container-id-1 div.sk-item::before, #sk-container-id-1 div.sk-parallel-item::before {content: \"\";position: absolute;border-left: 1px solid gray;box-sizing: border-box;top: 0;bottom: 0;left: 50%;z-index: -1;}#sk-container-id-1 div.sk-parallel-item {display: flex;flex-direction: column;z-index: 1;position: relative;background-color: white;}#sk-container-id-1 div.sk-parallel-item:first-child::after {align-self: flex-end;width: 50%;}#sk-container-id-1 div.sk-parallel-item:last-child::after {align-self: flex-start;width: 50%;}#sk-container-id-1 div.sk-parallel-item:only-child::after {width: 0;}#sk-container-id-1 div.sk-dashed-wrapped {border: 1px dashed gray;margin: 0 0.4em 0.5em 0.4em;box-sizing: border-box;padding-bottom: 0.4em;background-color: white;}#sk-container-id-1 div.sk-label label {font-family: monospace;font-weight: bold;display: inline-block;line-height: 1.2em;}#sk-container-id-1 div.sk-label-container {text-align: center;}#sk-container-id-1 div.sk-container {/* jupyter's `normalize.less` sets `[hidden] { display: none; }` but bootstrap.min.css set `[hidden] { display: none !important; }` so we also need the `!important` here to be able to override the default hidden behavior on the sphinx rendered scikit-learn.org. See: https://github.com/scikit-learn/scikit-learn/issues/21755 */display: inline-block !important;position: relative;}#sk-container-id-1 div.sk-text-repr-fallback {display: none;}</style><div id=\"sk-container-id-1\" class=\"sk-top-container\"><div class=\"sk-text-repr-fallback\"><pre>LinearRegression()</pre><b>In a Jupyter environment, please rerun this cell to show the HTML representation or trust the notebook. <br />On GitHub, the HTML representation is unable to render, please try loading this page with nbviewer.org.</b></div><div class=\"sk-container\" hidden><div class=\"sk-item\"><div class=\"sk-estimator sk-toggleable\"><input class=\"sk-toggleable__control sk-hidden--visually\" id=\"sk-estimator-id-1\" type=\"checkbox\" checked><label for=\"sk-estimator-id-1\" class=\"sk-toggleable__label sk-toggleable__label-arrow\">LinearRegression</label><div class=\"sk-toggleable__content\"><pre>LinearRegression()</pre></div></div></div></div></div>"
      ],
      "text/plain": [
       "LinearRegression()"
      ]
     },
     "execution_count": 20,
     "metadata": {},
     "output_type": "execute_result"
    }
   ],
   "source": [
    "# Training the Simple Linear Regression model .\n",
    "\n",
    "from sklearn.linear_model import LinearRegression\n",
    "model = LinearRegression()\n",
    "model.fit(x_train,y_train)"
   ]
  },
  {
   "cell_type": "markdown",
   "metadata": {},
   "source": [
    "##### Prediction:"
   ]
  },
  {
   "cell_type": "code",
   "execution_count": 21,
   "metadata": {
    "id": "8zCVFjRsn4BE"
   },
   "outputs": [
    {
     "data": {
      "text/plain": [
       "array([-101150.56546139, 5369376.30720351, -894553.22407621, ...,\n",
       "        126550.77452005, -180202.84643745, -103923.3290664 ])"
      ]
     },
     "execution_count": 21,
     "metadata": {},
     "output_type": "execute_result"
    }
   ],
   "source": [
    "lr_predict = model.predict(x_test)\n",
    "lr_predict"
   ]
  },
  {
   "cell_type": "markdown",
   "metadata": {},
   "source": [
    "##### Model Evaluation:"
   ]
  },
  {
   "cell_type": "code",
   "execution_count": 22,
   "metadata": {
    "id": "wVUh-bIvynuq"
   },
   "outputs": [
    {
     "name": "stdout",
     "output_type": "stream",
     "text": [
      "MSE\n",
      "138861556649228.17\n"
     ]
    }
   ],
   "source": [
    "from sklearn.metrics import mean_squared_error\n",
    "lr_predict = model.predict(x_test)\n",
    "print(\"MSE\")\n",
    "scores_regr = (mean_squared_error(y_test, lr_predict))\n",
    "print(scores_regr)\n",
    "# print(mean_squared_error(y_train, lr_predict))"
   ]
  },
  {
   "cell_type": "markdown",
   "metadata": {},
   "source": [
    "##### Predicting and Visualizing Results:"
   ]
  },
  {
   "cell_type": "code",
   "execution_count": 23,
   "metadata": {
    "id": "hGfrNaaAhtzX"
   },
   "outputs": [
    {
     "data": {
      "text/plain": [
       "array([-101150.56546139, 5369376.30720351, -894553.22407621, ...,\n",
       "        126550.77452005, -180202.84643745, -103923.3290664 ])"
      ]
     },
     "execution_count": 23,
     "metadata": {},
     "output_type": "execute_result"
    }
   ],
   "source": [
    "# Predicting the test Results\n",
    "\n",
    "lr_predict = model.predict(x_test)\n",
    "lr_predict"
   ]
  },
  {
   "cell_type": "code",
   "execution_count": 24,
   "metadata": {
    "id": "nYQUatD7hwCM"
   },
   "outputs": [
    {
     "data": {
      "text/plain": [
       "0.10252593424738343"
      ]
     },
     "execution_count": 24,
     "metadata": {},
     "output_type": "execute_result"
    }
   ],
   "source": [
    "model.score(x_test,y_test)"
   ]
  },
  {
   "cell_type": "code",
   "execution_count": 25,
   "metadata": {
    "id": "NOc3yqAGN1r2"
   },
   "outputs": [
    {
     "name": "stdout",
     "output_type": "stream",
     "text": [
      "R2 score :  0.10252593424738343\n"
     ]
    }
   ],
   "source": [
    "from sklearn.metrics import r2_score\n",
    "r = r2_score(y_test,lr_predict)\n",
    "print(\"R2 score : \",r)"
   ]
  },
  {
   "cell_type": "code",
   "execution_count": 26,
   "metadata": {
    "id": "4TvzH4l8N1r3"
   },
   "outputs": [
    {
     "data": {
      "text/plain": [
       "Text(0.5, 1.0, 'Linear Regression')"
      ]
     },
     "execution_count": 26,
     "metadata": {},
     "output_type": "execute_result"
    },
    {
     "data": {
      "image/png": "[encoded data removed]",
      "text/plain": [
       "<Figure size 640x480 with 1 Axes>"
      ]
     },
     "metadata": {},
     "output_type": "display_data"
    }
   ],
   "source": [
    "plt.scatter(y_test,lr_predict)\n",
    "plt.xlabel('Actual')\n",
    "plt.ylabel('Predicted')\n",
    "plt.title('Linear Regression')"
   ]
  },
  {
   "cell_type": "markdown",
   "metadata": {
    "id": "VQOTg1RsN1r4"
   },
   "source": [
    "Clearly, the dataset is not good for linear regression.\n",
    "\n",
    "<b> Assumptions of Linear Regression </b>\n",
    "<ol>\n",
    "    <li> Linearity.</li>\n",
    "    <li> Homoscedasticity </li>\n",
    "    <li> Multivariate normality </li>\n",
    "    <li> Lack of multicollinearity </li>\n",
    "    \n"
   ]
  },
  {
   "cell_type": "markdown",
   "metadata": {
    "id": "PYfSAmsKN1r4"
   },
   "source": [
    "R2 score: This is pronounced as R-squared, and this score refers to the coefficient of determination.\n",
    "This tells us how well the unknown samples will be predicted by our model."
   ]
  },
  {
   "cell_type": "markdown",
   "metadata": {
    "id": "cK4zWdosN1sA"
   },
   "source": [
    "# <b> Decision Tree </b>"
   ]
  },
  {
   "cell_type": "code",
   "execution_count": 27,
   "metadata": {
    "colab": {
     "base_uri": "https://localhost:8080/"
    },
    "id": "onpwU2yfN1sA",
    "outputId": "b8b426a7-e456-40d6-e2b8-61bc073719eb"
   },
   "outputs": [
    {
     "data": {
      "text/plain": [
       "array([3004.,  114.,   15., ...,  367.,  399.,  508.])"
      ]
     },
     "execution_count": 27,
     "metadata": {},
     "output_type": "execute_result"
    }
   ],
   "source": [
    "# Training model\n",
    "from sklearn.tree import DecisionTreeRegressor\n",
    "regressor = DecisionTreeRegressor(random_state = 5)\n",
    "regressor.fit(x_train,y_train)\n",
    "\n",
    "# Predicting results\n",
    "decisiontree_predict = regressor.predict(x_test)\n",
    "decisiontree_predict"
   ]
  },
  {
   "cell_type": "code",
   "execution_count": 28,
   "metadata": {
    "id": "dCnn_wZ8N1sB"
   },
   "outputs": [
    {
     "data": {
      "text/plain": [
       "0.8463543549986969"
      ]
     },
     "execution_count": 28,
     "metadata": {},
     "output_type": "execute_result"
    }
   ],
   "source": [
    "regressor.score(x_test,y_test)"
   ]
  },
  {
   "cell_type": "code",
   "execution_count": 29,
   "metadata": {
    "id": "JQj_vmLs4Ut5"
   },
   "outputs": [
    {
     "data": {
      "text/plain": [
       "Text(0.5, 1.0, 'Decision Tree ')"
      ]
     },
     "execution_count": 29,
     "metadata": {},
     "output_type": "execute_result"
    },
    {
     "data": {
      "image/png": "[encoded data removed]",
      "text/plain": [
       "<Figure size 640x480 with 1 Axes>"
      ]
     },
     "metadata": {},
     "output_type": "display_data"
    }
   ],
   "source": [
    "plt.scatter(y_test,decisiontree_predict)\n",
    "plt.xlabel('Actual')\n",
    "plt.ylabel('Predicted')\n",
    "plt.title('Decision Tree ')"
   ]
  },
  {
   "cell_type": "code",
   "execution_count": 30,
   "metadata": {
    "id": "ZYH2JfafN1sB"
   },
   "outputs": [
    {
     "name": "stdout",
     "output_type": "stream",
     "text": [
      "R2 score :  0.8463543549986969\n",
      "Adj. R-Squared : 0.843716071218157\n"
     ]
    }
   ],
   "source": [
    "# Calculating R2 score :\n",
    "\n",
    "from sklearn.metrics import r2_score\n",
    "r2 = r2_score(y_test,decisiontree_predict)\n",
    "print(\"R2 score : \",r2)\n",
    "\n",
    "# Calculating Adj. R2 score:\n",
    "\n",
    "Adjr2_2 = 1 - (1-r2)*(len(y_test)-1)/(len(y_test)-x_test.shape[1]-1)\n",
    "print(\"Adj. R-Squared : {}\".format(Adjr2_2))"
   ]
  },
  {
   "cell_type": "code",
   "execution_count": 31,
   "metadata": {
    "id": "U5NOZB9kN1sD"
   },
   "outputs": [
    {
     "name": "stderr",
     "output_type": "stream",
     "text": [
      "C:\\Users\\yash9\\AppData\\Local\\Temp\\ipykernel_34488\\697514152.py:1: UserWarning: \n",
      "\n",
      "`distplot` is a deprecated function and will be removed in seaborn v0.14.0.\n",
      "\n",
      "Please adapt your code to use either `displot` (a figure-level function with\n",
      "similar flexibility) or `kdeplot` (an axes-level function for kernel density plots).\n",
      "\n",
      "For a guide to updating your code to use the new functions, please see\n",
      "https://gist.github.com/mwaskom/de44147ed2974457ad6372750bbe5751\n",
      "\n",
      "  ax = sns.distplot(y_test, hist = False, color = \"r\", label = \"Actual value \")\n",
      "C:\\Users\\yash9\\AppData\\Local\\Temp\\ipykernel_34488\\697514152.py:2: UserWarning: \n",
      "\n",
      "`distplot` is a deprecated function and will be removed in seaborn v0.14.0.\n",
      "\n",
      "Please adapt your code to use either `displot` (a figure-level function with\n",
      "similar flexibility) or `kdeplot` (an axes-level function for kernel density plots).\n",
      "\n",
      "For a guide to updating your code to use the new functions, please see\n",
      "https://gist.github.com/mwaskom/de44147ed2974457ad6372750bbe5751\n",
      "\n",
      "  sns.distplot(decisiontree_predict, hist = False, color = \"b\", label = \"Predicted Values\", ax = ax)\n"
     ]
    },
    {
     "data": {
      "text/plain": [
       "Text(0.5, 1.0, 'Decision Tree Regression')"
      ]
     },
     "execution_count": 31,
     "metadata": {},
     "output_type": "execute_result"
    },
    {
     "data": {
      "image/png": "[encoded data removed]",
      "text/plain": [
       "<Figure size 640x480 with 1 Axes>"
      ]
     },
     "metadata": {},
     "output_type": "display_data"
    }
   ],
   "source": [
    "ax = sns.distplot(y_test, hist = False, color = \"r\", label = \"Actual value \")\n",
    "sns.distplot(decisiontree_predict, hist = False, color = \"b\", label = \"Predicted Values\", ax = ax)\n",
    "plt.title('Decision Tree Regression')"
   ]
  },
  {
   "cell_type": "markdown",
   "metadata": {
    "id": "VQd1SuR8YKie"
   },
   "source": [
    "# **Random Forest Algorithm**"
   ]
  },
  {
   "cell_type": "code",
   "execution_count": 32,
   "metadata": {
    "id": "mw2Uwu7iKSrt"
   },
   "outputs": [
    {
     "data": {
      "text/plain": [
       "array([3029.90909091,  120.54545455,   15.18181818, ...,  363.27272727,\n",
       "        460.27272727,  518.54545455])"
      ]
     },
     "execution_count": 32,
     "metadata": {},
     "output_type": "execute_result"
    }
   ],
   "source": [
    "from sklearn.ensemble import RandomForestRegressor\n",
    "model = RandomForestRegressor(n_estimators = 11)\n",
    "model.fit(x_train,y_train)\n",
    "rf_predict = model.predict(x_test)\n",
    "rf_predict"
   ]
  },
  {
   "cell_type": "code",
   "execution_count": 33,
   "metadata": {
    "id": "WHqQ4-1mN1r6"
   },
   "outputs": [
    {
     "data": {
      "text/plain": [
       "0.9131194108691834"
      ]
     },
     "execution_count": 33,
     "metadata": {},
     "output_type": "execute_result"
    }
   ],
   "source": [
    "model.score(x_test,y_test)"
   ]
  },
  {
   "cell_type": "code",
   "execution_count": 34,
   "metadata": {
    "id": "Bgoh1gQ_N1r7"
   },
   "outputs": [
    {
     "name": "stdout",
     "output_type": "stream",
     "text": [
      "R2 score :  0.9131194108691834\n"
     ]
    }
   ],
   "source": [
    "# Calculating R2 score\n",
    "\n",
    "from sklearn.metrics import r2_score\n",
    "r1 = r2_score(y_test,rf_predict)\n",
    "print(\"R2 score : \",r1)"
   ]
  },
  {
   "cell_type": "code",
   "execution_count": 35,
   "metadata": {
    "id": "kKoCXC17N1r7"
   },
   "outputs": [
    {
     "name": "stdout",
     "output_type": "stream",
     "text": [
      "Adj. R-Squared : 0.9116275648155862\n"
     ]
    }
   ],
   "source": [
    "# Calculating Adj. R2 score:\n",
    "\n",
    "Adjr2_1 = 1 - (1-r1)*(len(y_test)-1)/(len(y_test)-x_test.shape[1]-1)\n",
    "print(\"Adj. R-Squared : {}\".format(Adjr2_1))"
   ]
  },
  {
   "cell_type": "code",
   "execution_count": 36,
   "metadata": {
    "id": "Q7namUlXN1r8"
   },
   "outputs": [
    {
     "name": "stderr",
     "output_type": "stream",
     "text": [
      "C:\\Users\\yash9\\AppData\\Local\\Temp\\ipykernel_34488\\551929062.py:1: UserWarning: \n",
      "\n",
      "`distplot` is a deprecated function and will be removed in seaborn v0.14.0.\n",
      "\n",
      "Please adapt your code to use either `displot` (a figure-level function with\n",
      "similar flexibility) or `kdeplot` (an axes-level function for kernel density plots).\n",
      "\n",
      "For a guide to updating your code to use the new functions, please see\n",
      "https://gist.github.com/mwaskom/de44147ed2974457ad6372750bbe5751\n",
      "\n",
      "  ax = sns.distplot(y_test, hist = False, color = \"r\", label = \"Actual value \")\n",
      "C:\\Users\\yash9\\AppData\\Local\\Temp\\ipykernel_34488\\551929062.py:2: UserWarning: \n",
      "\n",
      "`distplot` is a deprecated function and will be removed in seaborn v0.14.0.\n",
      "\n",
      "Please adapt your code to use either `displot` (a figure-level function with\n",
      "similar flexibility) or `kdeplot` (an axes-level function for kernel density plots).\n",
      "\n",
      "For a guide to updating your code to use the new functions, please see\n",
      "https://gist.github.com/mwaskom/de44147ed2974457ad6372750bbe5751\n",
      "\n",
      "  sns.distplot(rf_predict, hist = False, color = \"b\", label = \"Predicted Values\", ax = ax)\n"
     ]
    },
    {
     "data": {
      "text/plain": [
       "Text(0.5, 1.0, 'Random Forest Regression')"
      ]
     },
     "execution_count": 36,
     "metadata": {},
     "output_type": "execute_result"
    },
    {
     "data": {
      "image/png": "[encoded data removed]",
      "text/plain": [
       "<Figure size 640x480 with 1 Axes>"
      ]
     },
     "metadata": {},
     "output_type": "display_data"
    }
   ],
   "source": [
    "ax = sns.distplot(y_test, hist = False, color = \"r\", label = \"Actual value \")\n",
    "sns.distplot(rf_predict, hist = False, color = \"b\", label = \"Predicted Values\", ax = ax)\n",
    "plt.title('Random Forest Regression')"
   ]
  },
  {
   "cell_type": "code",
   "execution_count": 37,
   "metadata": {
    "id": "YAMIsfa84uwF"
   },
   "outputs": [
    {
     "data": {
      "text/plain": [
       "Text(0.5, 1.0, 'Random Forest')"
      ]
     },
     "execution_count": 37,
     "metadata": {},
     "output_type": "execute_result"
    },
    {
     "data": {
      "image/png": "[encoded data removed]",
      "text/plain": [
       "<Figure size 640x480 with 1 Axes>"
      ]
     },
     "metadata": {},
     "output_type": "display_data"
    }
   ],
   "source": [
    "plt.scatter(y_test,rf_predict)\n",
    "plt.xlabel('Actual')\n",
    "plt.ylabel('Predicted')\n",
    "plt.title('Random Forest')"
   ]
  },
  {
   "cell_type": "markdown",
   "metadata": {
    "id": "jNKIoSwdN1r9"
   },
   "source": [
    "<b> Comparison between Linear Regression Algorithm and Random Forest Algorithm </b>"
   ]
  },
  {
   "cell_type": "markdown",
   "metadata": {
    "id": "TGqB0ojXN1r9"
   },
   "source": [
    "\n",
    "\n",
    "1. Linear regression algorithm is not at all accurate for this kind of prediction.\n",
    "2. Random Forest Algorithm has higher accuracy ( between 85 % to 90% ), but it is slow."
   ]
  },
  {
   "cell_type": "markdown",
   "metadata": {},
   "source": [
    "# Naive Bayes Classifier:"
   ]
  },
  {
   "cell_type": "code",
   "execution_count": 38,
   "metadata": {},
   "outputs": [
    {
     "name": "stdout",
     "output_type": "stream",
     "text": [
      "Accuracy (Naive Bayes): 0.99952\n",
      "\n",
      "Confusion Matrix (Naive Bayes):\n",
      " [[    1     2     0]\n",
      " [    0 12493     0]\n",
      " [    0     4     0]]\n",
      "\n",
      "Classification Report (Naive Bayes):\n",
      "               precision    recall  f1-score   support\n",
      "\n",
      "        high       1.00      0.33      0.50         3\n",
      "         low       1.00      1.00      1.00     12493\n",
      "      medium       0.00      0.00      0.00         4\n",
      "\n",
      "    accuracy                           1.00     12500\n",
      "   macro avg       0.67      0.44      0.50     12500\n",
      "weighted avg       1.00      1.00      1.00     12500\n",
      "\n"
     ]
    },
    {
     "name": "stderr",
     "output_type": "stream",
     "text": [
      "C:\\Users\\yash9\\AppData\\Local\\Programs\\Python\\Python311\\Lib\\site-packages\\sklearn\\metrics\\_classification.py:1471: UndefinedMetricWarning: Precision and F-score are ill-defined and being set to 0.0 in labels with no predicted samples. Use `zero_division` parameter to control this behavior.\n",
      "  _warn_prf(average, modifier, msg_start, len(result))\n",
      "C:\\Users\\yash9\\AppData\\Local\\Programs\\Python\\Python311\\Lib\\site-packages\\sklearn\\metrics\\_classification.py:1471: UndefinedMetricWarning: Precision and F-score are ill-defined and being set to 0.0 in labels with no predicted samples. Use `zero_division` parameter to control this behavior.\n",
      "  _warn_prf(average, modifier, msg_start, len(result))\n",
      "C:\\Users\\yash9\\AppData\\Local\\Programs\\Python\\Python311\\Lib\\site-packages\\sklearn\\metrics\\_classification.py:1471: UndefinedMetricWarning: Precision and F-score are ill-defined and being set to 0.0 in labels with no predicted samples. Use `zero_division` parameter to control this behavior.\n",
      "  _warn_prf(average, modifier, msg_start, len(result))\n"
     ]
    }
   ],
   "source": [
    "from sklearn.naive_bayes import GaussianNB\n",
    "from sklearn.metrics import accuracy_score, classification_report, confusion_matrix\n",
    "\n",
    "# Assuming 'y' is a categorical variable for classification\n",
    "# Convert 'y' to categorical if it's not\n",
    "y_train_categorical = pd.cut(y_train, bins=3, labels=['low', 'medium', 'high'])\n",
    "y_test_categorical = pd.cut(y_test, bins=3, labels=['low', 'medium', 'high'])\n",
    "\n",
    "# Creating Naive Bayes model\n",
    "naive_bayes_model = GaussianNB()\n",
    "\n",
    "# Training the model\n",
    "naive_bayes_model.fit(x_train, y_train_categorical)\n",
    "\n",
    "# Predictions\n",
    "naive_bayes_predict = naive_bayes_model.predict(x_test)\n",
    "\n",
    "# Model Evaluation\n",
    "accuracy_nb = accuracy_score(y_test_categorical, naive_bayes_predict)\n",
    "conf_matrix_nb = confusion_matrix(y_test_categorical, naive_bayes_predict)\n",
    "classification_report_nb = classification_report(y_test_categorical, naive_bayes_predict)\n",
    "\n",
    "# Print the results\n",
    "print(\"Accuracy (Naive Bayes):\", accuracy_nb)\n",
    "print(\"\\nConfusion Matrix (Naive Bayes):\\n\", conf_matrix_nb)\n",
    "print(\"\\nClassification Report (Naive Bayes):\\n\", classification_report_nb)\n"
   ]
  },
  {
   "cell_type": "markdown",
   "metadata": {},
   "source": [
    "# K-Nearest Neighbors (KNN):"
   ]
  },
  {
   "cell_type": "code",
   "execution_count": 39,
   "metadata": {},
   "outputs": [
    {
     "name": "stdout",
     "output_type": "stream",
     "text": [
      "Mean Squared Error (KNN): 16552184645728.477\n",
      "R2 score (KNN): 0.893021821088936\n"
     ]
    }
   ],
   "source": [
    "from sklearn.neighbors import KNeighborsRegressor\n",
    "\n",
    "# Creating KNN model\n",
    "knn_model = KNeighborsRegressor(n_neighbors=5)\n",
    "\n",
    "# Training the model\n",
    "knn_model.fit(x_train, y_train)\n",
    "\n",
    "# Predictions\n",
    "knn_predict = knn_model.predict(x_test)\n",
    "\n",
    "# Model Evaluation\n",
    "scores_knn = mean_squared_error(y_test, knn_predict)\n",
    "r2_knn = r2_score(y_test, knn_predict)\n",
    "\n",
    "# Print the results\n",
    "print(\"Mean Squared Error (KNN):\", scores_knn)\n",
    "print(\"R2 score (KNN):\", r2_knn)\n"
   ]
  },
  {
   "cell_type": "markdown",
   "metadata": {
    "id": "AREhpwFyN1sD"
   },
   "source": [
    "# <b> Cross-validation </b>"
   ]
  },
  {
   "cell_type": "markdown",
   "metadata": {
    "id": "ccsRSBX_yQk5"
   },
   "source": [
    "### Random Forest"
   ]
  },
  {
   "cell_type": "code",
   "execution_count": null,
   "metadata": {
    "id": "G7YC9ZeVN1sE"
   },
   "outputs": [],
   "source": [
    "from sklearn.model_selection import cross_val_score\n",
    "accuracies = cross_val_score(estimator = model, X = x_train, y=y_train, cv = 10)\n",
    "accuracies"
   ]
  },
  {
   "cell_type": "code",
   "execution_count": null,
   "metadata": {
    "id": "nwhO4h7VN1sF"
   },
   "outputs": [],
   "source": [
    "a1 = (accuracies.mean()*100)\n",
    "b1 = (accuracies.std()*100)"
   ]
  },
  {
   "cell_type": "code",
   "execution_count": null,
   "metadata": {
    "id": "9k-lTYEWN1sF"
   },
   "outputs": [],
   "source": [
    "\n",
    "# Mean Accuracy and SD of 10 fold results\n",
    "\n",
    "print(\"Accuracy : {:.2f}%\".format (accuracies.mean()*100))\n",
    "print(\"Standard Deviation : {:.2f}%\".format(accuracies.std()*100))"
   ]
  },
  {
   "cell_type": "markdown",
   "metadata": {
    "id": "zsTeJxQpN1sG"
   },
   "source": [
    "### Decision Tree"
   ]
  },
  {
   "cell_type": "code",
   "execution_count": null,
   "metadata": {
    "id": "TDWc_rMhN1sH"
   },
   "outputs": [],
   "source": [
    "from sklearn.model_selection import cross_val_score\n",
    "accuracies = cross_val_score(estimator = regressor, X = x_train, y=y_train, cv = 10)"
   ]
  },
  {
   "cell_type": "code",
   "execution_count": null,
   "metadata": {
    "id": "5IJI9wxDN1sH"
   },
   "outputs": [],
   "source": [
    "a2 = (accuracies.mean()*100)\n",
    "b2 = (accuracies.std()*100)"
   ]
  },
  {
   "cell_type": "code",
   "execution_count": null,
   "metadata": {
    "id": "rAMG3jAdN1sH"
   },
   "outputs": [],
   "source": [
    "print(\"Accuracy : {:.2f}%\".format (accuracies.mean()*100))\n",
    "print(\"Standard Deviation : {:.2f}%\".format(accuracies.std()*100))"
   ]
  },
  {
   "cell_type": "markdown",
   "metadata": {},
   "source": [
    "### K-Nearest Neighbors (KNN):"
   ]
  },
  {
   "cell_type": "code",
   "execution_count": null,
   "metadata": {},
   "outputs": [],
   "source": [
    "from sklearn.model_selection import cross_val_score\n",
    "from sklearn.neighbors import KNeighborsRegressor\n",
    "\n",
    "# Creating KNN model\n",
    "knn_model = KNeighborsRegressor(n_neighbors=5)\n",
    "\n",
    "# Performing cross-validation\n",
    "knn_cv_scores = cross_val_score(estimator=knn_model, X=x_train, y=y_train, cv=10)\n",
    "a3 = (accuracies.mean()*100)\n",
    "b3 = (accuracies.std()*100)\n",
    "# Print the cross-validation scores\n",
    "print(\"KNN Cross-Validation Scores:\")\n",
    "print(knn_cv_scores)\n",
    "\n",
    "# Mean Accuracy and SD of the cross-validation results\n",
    "print(\"Mean Accuracy : {:.2f}%\".format(knn_cv_scores.mean() * 100))\n",
    "print(\"Standard Deviation : {:.2f}%\".format(knn_cv_scores.std() * 100))\n"
   ]
  },
  {
   "cell_type": "markdown",
   "metadata": {},
   "source": [
    "### Naive Bayes:"
   ]
  },
  {
   "cell_type": "code",
   "execution_count": null,
   "metadata": {},
   "outputs": [],
   "source": [
    "from sklearn.model_selection import cross_val_score\n",
    "from sklearn.naive_bayes import GaussianNB\n",
    "\n",
    "\n",
    "y_train_categorical = pd.cut(y_train, bins=3, labels=['low', 'medium', 'high'])\n",
    "a4 = (accuracies.mean()*100)\n",
    "b4 = (accuracies.std()*100)\n",
    "naive_bayes_model = GaussianNB()\n",
    "\n",
    "naive_bayes_cv_scores = cross_val_score(estimator=naive_bayes_model, X=x_train, y=y_train_categorical, cv=10)\n",
    "\n",
    "print(\"Naive Bayes Cross-Validation Scores:\")\n",
    "print(naive_bayes_cv_scores)\n",
    "\n",
    "print(\"Mean Accuracy : {:.2f}%\".format(naive_bayes_cv_scores.mean() * 100))\n",
    "print(\"Standard Deviation : {:.2f}%\".format(naive_bayes_cv_scores.std() * 100))\n"
   ]
  },
  {
   "cell_type": "markdown",
   "metadata": {
    "id": "rO-cPOwVyayt"
   },
   "source": [
    "# Comparing with Graphs\n"
   ]
  },
  {
   "cell_type": "code",
   "execution_count": null,
   "metadata": {
    "colab": {
     "base_uri": "https://localhost:8080/",
     "height": 279
    },
    "id": "1QVBX7QIN1sI",
    "outputId": "711497b3-ca18-4687-cc7f-87deead8c5f8"
   },
   "outputs": [],
   "source": [
    "import numpy as np\n",
    "import matplotlib.pyplot as plt\n",
    "\n",
    "# Mean Accuracy for each algorithm\n",
    "Algorithms = ['Random Forest', 'Decision Tree', 'KNN', 'Naive Bayes']\n",
    "Accuracy = [a1, a2, a3, a4]  # Replace a4 with the accuracy of Naive Bayes\n",
    "\n",
    "# Create bars with different colors\n",
    "plt.bar(np.arange(len(Accuracy)), Accuracy, color=['#488AC7', '#ff8c00', '#4CAF50', '#800000'])\n",
    "\n",
    "# Create names on the x-axis\n",
    "plt.xticks(np.arange(len(Accuracy)), Algorithms)\n",
    "plt.ylabel('Accuracy (in %)')\n",
    "plt.xlabel('Machine Learning Techniques')\n",
    "plt.title('Comparison of Model Accuracy')\n",
    "\n",
    "# Show graph\n",
    "plt.show()\n"
   ]
  },
  {
   "cell_type": "code",
   "execution_count": null,
   "metadata": {
    "colab": {
     "base_uri": "https://localhost:8080/",
     "height": 296
    },
    "id": "WHbI-jVJN1sI",
    "outputId": "a525dba9-01f3-42ae-f36c-157a3b6a679f"
   },
   "outputs": [],
   "source": [
    "import numpy as np\n",
    "import matplotlib.pyplot as plt\n",
    "\n",
    "# Standard Deviation for each algorithm\n",
    "Algorithms = ['Random Forest', 'Decision Tree', 'KNN', 'Naive Bayes']\n",
    "StdDev = [b1, b2, b3, b4]  # Replace b4 with the standard deviation of Naive Bayes\n",
    "\n",
    "# Create bars with different colors\n",
    "plt.bar(np.arange(len(StdDev)), StdDev, color=['#488AC7', '#ff8c00', '#4CAF50', '#800000'])\n",
    "\n",
    "# Create names on the x-axis\n",
    "plt.xticks(np.arange(len(StdDev)), Algorithms)\n",
    "plt.ylabel('Standard Deviation (in %)')\n",
    "plt.xlabel('Machine Learning Techniques')\n",
    "plt.title('Comparison of Standard Deviation')\n",
    "\n",
    "# Show graph\n",
    "plt.show()\n"
   ]
  }
 ],
 "metadata": {
  "accelerator": "GPU",
  "colab": {
   "collapsed_sections": [
    "uFLVu_S7jyEe",
    "wOm0Nbu4hgcW",
    "cK4zWdosN1sA",
    "VQd1SuR8YKie",
    "AREhpwFyN1sD"
   ],
   "provenance": []
  },
  "kernelspec": {
   "display_name": "Python 3 (ipykernel)",
   "language": "python",
   "name": "python3"
  },
  "language_info": {
   "codemirror_mode": {
    "name": "ipython",
    "version": 3
   },
   "file_extension": ".py",
   "mimetype": "text/x-python",
   "name": "python",
   "nbconvert_exporter": "python",
   "pygments_lexer": "ipython3",
   "version": "3.11.4"
  }
 },
 "nbformat": 4,
 "nbformat_minor": 4
}
